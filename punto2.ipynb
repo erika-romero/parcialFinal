{
 "cells": [
  {
   "cell_type": "code",
   "execution_count": 7,
   "id": "63c667cc",
   "metadata": {},
   "outputs": [
    {
     "data": {
      "application/vnd.jupyter.widget-view+json": {
       "model_id": "5a33e1da977048a3869f737eba462ae6",
       "version_major": 2,
       "version_minor": 0
      },
      "text/plain": [
       "VBox()"
      ]
     },
     "metadata": {},
     "output_type": "display_data"
    },
    {
     "data": {
      "application/vnd.jupyter.widget-view+json": {
       "model_id": "",
       "version_major": 2,
       "version_minor": 0
      },
      "text/plain": [
       "FloatProgress(value=0.0, bar_style='info', description='Progress:', layout=Layout(height='25px', width='50%'),…"
      ]
     },
     "metadata": {},
     "output_type": "display_data"
    }
   ],
   "source": [
    "from pyspark.ml import Pipeline\n",
    "from pyspark.ml.feature import CountVectorizer, IDF\n",
    "from pyspark.ml.feature import StringIndexer\n",
    "from pyspark.ml.feature import Tokenizer, StopWordsRemover\n",
    "from pyspark.sql.functions import input_file_name\n",
    "from pyspark.sql.functions import explode"
   ]
  },
  {
   "cell_type": "code",
   "execution_count": 1,
   "id": "d2c23905",
   "metadata": {},
   "outputs": [
    {
     "data": {
      "application/vnd.jupyter.widget-view+json": {
       "model_id": "52fb7c8f018d4870ac0ced1a57debdbf",
       "version_major": 2,
       "version_minor": 0
      },
      "text/plain": [
       "VBox()"
      ]
     },
     "metadata": {},
     "output_type": "display_data"
    },
    {
     "name": "stdout",
     "output_type": "stream",
     "text": [
      "Starting Spark application\n"
     ]
    },
    {
     "data": {
      "text/html": [
       "<table>\n",
       "<tr><th>ID</th><th>YARN Application ID</th><th>Kind</th><th>State</th><th>Spark UI</th><th>Driver log</th><th>User</th><th>Current session?</th></tr><tr><td>0</td><td>application_1685163913515_0001</td><td>pyspark</td><td>idle</td><td><a target=\"_blank\" href=\"http://ip-172-31-24-42.ec2.internal:20888/proxy/application_1685163913515_0001/\" class=\"emr-proxy-link\" emr-resource=\"j-2GAZH0NLD593M\n",
       "\" application-id=\"application_1685163913515_0001\">Link</a></td><td><a target=\"_blank\" href=\"http://ip-172-31-27-102.ec2.internal:8042/node/containerlogs/container_1685163913515_0001_01_000001/livy\" >Link</a></td><td>None</td><td>✔</td></tr></table>"
      ],
      "text/plain": [
       "<IPython.core.display.HTML object>"
      ]
     },
     "metadata": {},
     "output_type": "display_data"
    },
    {
     "data": {
      "application/vnd.jupyter.widget-view+json": {
       "model_id": "",
       "version_major": 2,
       "version_minor": 0
      },
      "text/plain": [
       "FloatProgress(value=0.0, bar_style='info', description='Progress:', layout=Layout(height='25px', width='50%'),…"
      ]
     },
     "metadata": {},
     "output_type": "display_data"
    },
    {
     "name": "stdout",
     "output_type": "stream",
     "text": [
      "SparkSession available as 'spark'.\n"
     ]
    },
    {
     "data": {
      "application/vnd.jupyter.widget-view+json": {
       "model_id": "",
       "version_major": 2,
       "version_minor": 0
      },
      "text/plain": [
       "FloatProgress(value=0.0, bar_style='info', description='Progress:', layout=Layout(height='25px', width='50%'),…"
      ]
     },
     "metadata": {},
     "output_type": "display_data"
    },
    {
     "name": "stdout",
     "output_type": "stream",
     "text": [
      "<pyspark.sql.session.SparkSession object at 0x7f7beb5835d0>"
     ]
    }
   ],
   "source": [
    "spark"
   ]
  },
  {
   "cell_type": "code",
   "execution_count": 8,
   "id": "993deb23",
   "metadata": {},
   "outputs": [
    {
     "data": {
      "application/vnd.jupyter.widget-view+json": {
       "model_id": "71a61f9664234150a6f70eac37548916",
       "version_major": 2,
       "version_minor": 0
      },
      "text/plain": [
       "VBox()"
      ]
     },
     "metadata": {},
     "output_type": "display_data"
    },
    {
     "data": {
      "application/vnd.jupyter.widget-view+json": {
       "model_id": "",
       "version_major": 2,
       "version_minor": 0
      },
      "text/plain": [
       "FloatProgress(value=0.0, bar_style='info', description='Progress:', layout=Layout(height='25px', width='50%'),…"
      ]
     },
     "metadata": {},
     "output_type": "display_data"
    }
   ],
   "source": [
    "# Carga de datos\n",
    "headers = ['categoria', 'titulo', 'link']\n",
    "data = spark.read.option(\"recursiveFileLookup\", \"true\").csv(\"s3://parcialnews/headlines/final/\").toDF(*headers)\n",
    "\n",
    "data = data.filter(data[\"categoria\"] != \"categoria\")\n",
    "\n",
    "data = data.dropna(subset=[\"categoria\",\"titulo\",\"link\"])"
   ]
  },
  {
   "cell_type": "code",
   "execution_count": 9,
   "id": "33d055f4",
   "metadata": {},
   "outputs": [
    {
     "data": {
      "application/vnd.jupyter.widget-view+json": {
       "model_id": "0606451b2c50426da0993082f56cd097",
       "version_major": 2,
       "version_minor": 0
      },
      "text/plain": [
       "VBox()"
      ]
     },
     "metadata": {},
     "output_type": "display_data"
    },
    {
     "data": {
      "application/vnd.jupyter.widget-view+json": {
       "model_id": "",
       "version_major": 2,
       "version_minor": 0
      },
      "text/plain": [
       "FloatProgress(value=0.0, bar_style='info', description='Progress:', layout=Layout(height='25px', width='50%'),…"
      ]
     },
     "metadata": {},
     "output_type": "display_data"
    },
    {
     "name": "stdout",
     "output_type": "stream",
     "text": [
      "+--------------------+--------------------+--------------------+\n",
      "|           categoria|              titulo|                link|\n",
      "+--------------------+--------------------+--------------------+\n",
      "|            Congreso| Reforma de la sa...| eltiempo.com/pol...|\n",
      "|Conflicto y Narco...| Gobernador del M...| eltiempo.com/jus...|\n",
      "|            Ciclismo| Rigoberto Urán a...| eltiempo.com/dep...|\n",
      "|            Medellín| El macabro crime...| eltiempo.com/col...|\n",
      "|Contenido Patroci...| ¿Por qué su empr...| eltiempo.com/con...|\n",
      "|       Más Contenido| eCommerce Day Co...| eltiempo.com/mas...|\n",
      "|Contenido Patroci...| ¿Por qué su empr...| eltiempo.com/con...|\n",
      "|       Más Contenido| eCommerce Day Co...| eltiempo.com/mas...|\n",
      "|               Gente| La modelo de Onl...| eltiempo.com/cul...|\n",
      "|               Gente| Estos son los pa...| eltiempo.com/cul...|\n",
      "|   Fútbol Colombiano| Los pecados que ...| eltiempo.com/dep...|\n",
      "|            Medellín| Cayó 'la coja' a...| eltiempo.com/col...|\n",
      "|              Bogotá| Los detalles rev...| eltiempo.com/bog...|\n",
      "|Unidad Investigativa| El bar de salsa ...| eltiempo.com/uni...|\n",
      "|      Otras Ciudades| ¿Quiénes eran lo...| eltiempo.com/col...|\n",
      "|Fútbol Internacional| Colombia supo su...| eltiempo.com/dep...|\n",
      "|COMERCIO ELECTRÓNICO| eCommerce: Conoz...| eltiempo.com/con...|\n",
      "|       Más Contenido| Colombia en el c...| eltiempo.com/mas...|\n",
      "|COMERCIO ELECTRÓNICO| eCommerce: Conoz...| eltiempo.com/con...|\n",
      "|       Más Contenido| Colombia en el c...| eltiempo.com/mas...|\n",
      "|         Gastronomía| 'Burger Máster 2...| eltiempo.com/cul...|\n",
      "|               Gente| La cantante Tina...| eltiempo.com/cul...|\n",
      "|Fútbol Internacional| Piqué cambiaría ...| eltiempo.com/dep...|\n",
      "|     Música y Libros| EL TIEMPO gana p...| eltiempo.com/cul...|\n",
      "|           Venezuela| ¿Por qué le dier...| eltiempo.com/mun...|\n",
      "|Unidad Investigativa| Abren investigac...| eltiempo.com/uni...|\n",
      "|Unidad Investigativa| El experto que e...| eltiempo.com/uni...|\n",
      "|           Cine y Tv| 'Rápidos y Furio...| eltiempo.com/cul...|\n",
      "|   BLACK FRIDAY 2023| Conozca los desc...| eltiempo.com/con...|\n",
      "|       Más Contenido| Historias que co...| eltiempo.com/mas...|\n",
      "|   BLACK FRIDAY 2023| Conozca los desc...| eltiempo.com/con...|\n",
      "|       Más Contenido| Historias que co...| eltiempo.com/mas...|\n",
      "|               Gente| Diego Guauque da...| eltiempo.com/cul...|\n",
      "|               Salud| Hipertensión: as...| eltiempo.com/sal...|\n",
      "|               Gente| La falsa médica ...| eltiempo.com/cul...|\n",
      "|               Salud| Científicos iden...| eltiempo.com/sal...|\n",
      "|   Fútbol Colombiano| Santa Fe y Junio...| eltiempo.com/dep...|\n",
      "|            Congreso| Los enredos que ...| eltiempo.com/pol...|\n",
      "|Unidad Investigativa| ¿Dónde está homb...| eltiempo.com/uni...|\n",
      "|           Santander| Tragedia en Buca...| eltiempo.com/col...|\n",
      "|   BLACK FRIDAY 2023| Conozca los desc...| eltiempo.com/con...|\n",
      "|       Más Contenido| Historias que co...| eltiempo.com/mas...|\n",
      "|   BLACK FRIDAY 2023| Conozca los desc...| eltiempo.com/con...|\n",
      "|       Más Contenido| Historias que co...| eltiempo.com/mas...|\n",
      "|            Medellín| Qué se sabe del ...| eltiempo.com/col...|\n",
      "|            Congreso| Fallece Telésfor...| eltiempo.com/pol...|\n",
      "|           Cine y Tv| Jhonny Deep reap...| eltiempo.com/cul...|\n",
      "|            Empresas| Estos son los 10...| eltiempo.com/eco...|\n",
      "|Conflicto y Narco...| Habla militar qu...| eltiempo.com/jus...|\n",
      "|      Otros Deportes| Video: impactant...| eltiempo.com/dep...|\n",
      "|Unidad Investigativa| Exclusivo: indag...| eltiempo.com/uni...|\n",
      "|            Gobierno| Petro cuestiona ...| eltiempo.com/pol...|\n",
      "|        BLACK FRIDAY| Black Friday ini...| eltiempo.comwww....|\n",
      "|       Más Contenido| Historias que co...| eltiempo.com/mas...|\n",
      "|        BLACK FRIDAY| Black Friday ini...| eltiempo.comwww....|\n",
      "|       Más Contenido| Historias que co...| eltiempo.com/mas...|\n",
      "|               Gente| 'Me va a amputar...| eltiempo.com/cul...|\n",
      "|      Otros Deportes| Desgarrador: el ...| eltiempo.com/dep...|\n",
      "|               Gente| 'Querían que tra...| eltiempo.com/cul...|\n",
      "|               Gente| La razón detrás ...| eltiempo.com/cul...|\n",
      "|            Congreso| Este es el borra...| eltiempo.com/pol...|\n",
      "|Unidad Investigativa| Atención: habla ...| eltiempo.com/uni...|\n",
      "|      Otras Ciudades| Olor a azufre ce...| eltiempo.com/col...|\n",
      "|  Partidos Políticos| La respuesta de ...| eltiempo.com/pol...|\n",
      "|Contenido Patroci...| morros park amam...| eltiempo.com/con...|\n",
      "|       Más Contenido| eCommerce Day Co...| eltiempo.com/mas...|\n",
      "|Contenido Patroci...| morros park amam...| eltiempo.com/con...|\n",
      "|       Más Contenido| eCommerce Day Co...| eltiempo.com/mas...|\n",
      "|      Otras Ciudades| Familiares y ami...| eltiempo.com/col...|\n",
      "|       Investigación| Tras 23 años va ...| eltiempo.com/jus...|\n",
      "|            Empresas| Tiendas Ara bajó...| eltiempo.com/eco...|\n",
      "|               Gente| Emilio Estefan r...| eltiempo.com/cul...|\n",
      "|            Gobierno| Gustavo Petro de...| eltiempo.com/pol...|\n",
      "|  Partidos Políticos| Álvaro Uribe: 'E...| eltiempo.com/pol...|\n",
      "|             Mujeres| ¿Los mecanismos ...| eltiempo.com/vid...|\n",
      "|               Salud| Cáncer de colon:...| eltiempo.com/sal...|\n",
      "|Contenido Patroci...| Relojes LOIX un ...| eltiempo.com/con...|\n",
      "|Contenido Patroci...| Black Friday: La...| eltiempo.com/con...|\n",
      "|Contenido Patroci...| Relojes LOIX un ...| eltiempo.com/con...|\n",
      "|Contenido Patroci...| Black Friday: La...| eltiempo.com/con...|\n",
      "|               Gente| La mujer con dos...| eltiempo.com/cul...|\n",
      "|               Gente| Así ha sido el s...| eltiempo.com/cul...|\n",
      "|           Servicios| ¿Quién debe pint...| eltiempo.com/jus...|\n",
      "|               Gente| Este es el outle...| eltiempo.com/cul...|\n",
      "|   Fútbol Colombiano| Medellín vs. Mil...| eltiempo.com/dep...|\n",
      "|      Otras Ciudades| A sangre fría: e...| eltiempo.com/col...|\n",
      "|Tutoriales Tecnol...| ¿Demasiados mens...| eltiempo.com/tec...|\n",
      "|   Fútbol Colombiano| La primera polém...| eltiempo.com/dep...|\n",
      "|        BLACK FRIDAY| Black Friday ini...| eltiempo.comwww....|\n",
      "|       Más Contenido| Historias que co...| eltiempo.com/mas...|\n",
      "|        BLACK FRIDAY| Black Friday ini...| eltiempo.comwww....|\n",
      "|       Más Contenido| Historias que co...| eltiempo.com/mas...|\n",
      "|Fútbol Internacional| Gerard Piqué vue...| eltiempo.com/dep...|\n",
      "|   Fútbol Colombiano| Teófilo Gutiérre...| eltiempo.com/dep...|\n",
      "|Fútbol Internacional| Argentina sin so...| eltiempo.com/dep...|\n",
      "|      Otras Ciudades| Esto se sabe de ...| eltiempo.com/col...|\n",
      "|       Investigación| Capturan a Jaime...| eltiempo.com/jus...|\n",
      "|Unidad Investigativa| Los poderosos du...| eltiempo.com/uni...|\n",
      "|   Fútbol Colombiano| Así se dio explo...| eltiempo.com/dep...|\n",
      "|       Latinoamérica| Video: Avión tuv...| eltiempo.com/mun...|\n",
      "|       Más Contenido| Eje Cafetero tri...| eltiempo.com/mas...|\n",
      "|       Más Contenido| Biocombustibles:...| eltiempo.com/mas...|\n",
      "|       Más Contenido| Eje Cafetero tri...| eltiempo.com/mas...|\n",
      "|       Más Contenido| Biocombustibles:...| eltiempo.com/mas...|\n",
      "|           Películas| ¿Adiós de Indian...| eltiempo.com/cul...|\n",
      "|   Fútbol Colombiano| Así serían los e...| eltiempo.com/dep...|\n",
      "|Fútbol Internacional| 'Shakira no está...| eltiempo.com/dep...|\n",
      "|               Salud| Las mejores diet...| eltiempo.com/sal...|\n",
      "|                EEUU| Donald Trump pro...| eltiempo.com/mun...|\n",
      "|            Medellín| Funcionarios que...| eltiempo.com/col...|\n",
      "|            Gobierno| El español que d...| eltiempo.com/pol...|\n",
      "|             Delitos| Viuda del fiscal...| eltiempo.com/jus...|\n",
      "|Contenido Patroci...| ¿Por qué su empr...| eltiempo.com/con...|\n",
      "|Contenido Patroci...| C.C. Nuestro Bog...| eltiempo.com/con...|\n",
      "|Contenido Patroci...| ¿Por qué su empr...| eltiempo.com/con...|\n",
      "|Contenido Patroci...| C.C. Nuestro Bog...| eltiempo.com/con...|\n",
      "|               Gente| Esta es la histo...| eltiempo.com/cul...|\n",
      "|               Gente| La insólita list...| eltiempo.com/cul...|\n",
      "|               Gente| ‘Me apuntaron co...| eltiempo.com/cul...|\n",
      "|               Gente| Él es el modelo ...| eltiempo.com/cul...|\n",
      "|Unidad Investigativa| Gobierno se alis...| eltiempo.com/uni...|\n",
      "|            Medellín| Lluvias y fuerte...| eltiempo.com/col...|\n",
      "|Novedades Tecnología| Así es la Inteli...| eltiempo.com/tec...|\n",
      "|   Fútbol Colombiano| La llamada telef...| eltiempo.com/dep...|\n",
      "|     FOROS EL TIEMPO| Conéctese al for...| eltiempo.comhttp...|\n",
      "|       Más Contenido| Historias que co...| eltiempo.com/mas...|\n",
      "|     FOROS EL TIEMPO| Conéctese al for...| eltiempo.comhttp...|\n",
      "|       Más Contenido| Historias que co...| eltiempo.com/mas...|\n",
      "|               Gente| Burger Master 20...| eltiempo.com/cul...|\n",
      "|              Bogotá| Moto en TransMil...| eltiempo.com/bog...|\n",
      "|               Gente| La carta de Jame...| eltiempo.com/cul...|\n",
      "|               Gente| 'MasterChef Cele...| eltiempo.com/cul...|\n",
      "|      Otras Ciudades| La historia de l...| eltiempo.com/col...|\n",
      "|Fútbol Internacional| Selección Colomb...| eltiempo.com/dep...|\n",
      "|               Salud| Cáncer de prósta...| eltiempo.com/sal...|\n",
      "|              Bogotá| Los crueles deta...| eltiempo.com/bog...|\n",
      "|Contenido Patroci...| ¿Por qué su empr...| eltiempo.com/con...|\n",
      "|Contenido Patroci...| Idrica líder de ...| eltiempo.com/con...|\n",
      "|Contenido Patroci...| ¿Por qué su empr...| eltiempo.com/con...|\n",
      "|Contenido Patroci...| Idrica líder de ...| eltiempo.com/con...|\n",
      "| Finanzas Personales| Descubra qué son...| eltiempo.com/eco...|\n",
      "|               Gente| A Claudia Bahamó...| eltiempo.com/cul...|\n",
      "|               Gente| Él es Daniel nov...| eltiempo.com/cul...|\n",
      "|       Investigación| ¿A qué se expone...| eltiempo.com/jus...|\n",
      "|       Investigación| 'No nos vamos a ...| eltiempo.com/jus...|\n",
      "|              Bogotá| Soldado asesinó ...| eltiempo.com/bog...|\n",
      "|              Bogotá| Rayo en Pacho ca...| eltiempo.com/bog...|\n",
      "|  Partidos Políticos| ¿Quién es la mag...| eltiempo.com/pol...|\n",
      "|COMERCIO ELECTRÓNICO| eCommerce: Conoz...| eltiempo.com/con...|\n",
      "|       Más Contenido| Colombia en el c...| eltiempo.com/mas...|\n",
      "|COMERCIO ELECTRÓNICO| eCommerce: Conoz...| eltiempo.com/con...|\n",
      "|       Más Contenido| Colombia en el c...| eltiempo.com/mas...|\n",
      "|      Medio Ambiente| Tras sismo en la...| eltiempo.com/vid...|\n",
      "|               Salud| ¿Cuántas veces p...| eltiempo.com/sal...|\n",
      "|           Educación| La competencia q...| eltiempo.com/vid...|\n",
      "|               Gente| Revelan sentida ...| eltiempo.com/cul...|\n",
      "|           Venezuela| ¿Álex Saab volve...| eltiempo.com/mun...|\n",
      "|            Ciclismo| Santiago Buitrag...| eltiempo.com/dep...|\n",
      "|            Congreso| Jennifer Pedraza...| eltiempo.com/pol...|\n",
      "|            Gobierno| ¿Pulla a Ocampo?...| eltiempo.com/pol...|\n",
      "|        BLACK FRIDAY| 5 Tips para apro...| eltiempo.com/con...|\n",
      "|        BLACK FRIDAY| Conozca las marc...| eltiempo.com/con...|\n",
      "|        BLACK FRIDAY| 5 Tips para apro...| eltiempo.com/con...|\n",
      "|        BLACK FRIDAY| Conozca las marc...| eltiempo.com/con...|\n",
      "|      Otras Ciudades| Un 'duende' no d...| eltiempo.com/col...|\n",
      "|              Europa| Video de impacta...| eltiempo.com/mun...|\n",
      "|               Gente| Revelan nuevos n...| eltiempo.com/cul...|\n",
      "|              Europa| Caso Madeleine M...| eltiempo.com/mun...|\n",
      "|      Otras Ciudades| Atención: reduce...| eltiempo.com/col...|\n",
      "|               Datos| Informalidad lab...| eltiempo.com/dat...|\n",
      "|Conflicto y Narco...| Así es el semisu...| eltiempo.com/jus...|\n",
      "|            Gobierno| Gustavo Petro po...| eltiempo.com/pol...|\n",
      "|Contenido Patroci...| ¿Por qué su empr...| eltiempo.com/con...|\n",
      "|Contenido Patroci...| Llegó la hora de...| eltiempo.com/con...|\n",
      "|Contenido Patroci...| ¿Por qué su empr...| eltiempo.com/con...|\n",
      "|Contenido Patroci...| Llegó la hora de...| eltiempo.com/con...|\n",
      "|         Gastronomía| La lechona entre...| eltiempo.com/cul...|\n",
      "|               Gente| Increíble: termi...| eltiempo.com/cul...|\n",
      "|      Medio Ambiente| ¿Cómo se produce...| eltiempo.com/vid...|\n",
      "|               Gente| Estaba agotada p...| eltiempo.com/cul...|\n",
      "|              Bogotá| 'Me separaron de...| eltiempo.com/bog...|\n",
      "|               Salud| Polémica declara...| eltiempo.com/sal...|\n",
      "|      Otras Ciudades| Docente de coleg...| eltiempo.com/col...|\n",
      "|     Música y Libros| Shakira sorprend...| eltiempo.com/cul...|\n",
      "|Contenido Patroci...| ¿Por qué su empr...| eltiempo.com/con...|\n",
      "|Contenido Patroci...| C.C. Nuestro Bog...| eltiempo.com/con...|\n",
      "|Contenido Patroci...| ¿Por qué su empr...| eltiempo.com/con...|\n",
      "|Contenido Patroci...| C.C. Nuestro Bog...| eltiempo.com/con...|\n",
      "|     Música y Libros| Gina Parody se d...| eltiempo.com/cul...|\n",
      "|       Arte y Teatro| ‘Mamma mia!’ el ...| eltiempo.com/cul...|\n",
      "|               Gente| ¿Se le mide? Así...| eltiempo.com/cul...|\n",
      "|               Gente| La modelo paragu...| eltiempo.com/cul...|\n",
      "|       Investigación| Los tres escenar...| eltiempo.com/jus...|\n",
      "|Unidad Investigativa| Aparece primera ...| eltiempo.com/uni...|\n",
      "| Finanzas Personales| Estos trabajador...| eltiempo.com/eco...|\n",
      "|            Gobierno| ¿Por qué Andrea ...| eltiempo.com/pol...|\n",
      "|Contenido Patroci...| Lactancia matern...| eltiempo.com/con...|\n",
      "|       Más Contenido| Colombia en el c...| eltiempo.com/mas...|\n",
      "|Contenido Patroci...| Lactancia matern...| eltiempo.com/con...|\n",
      "|       Más Contenido| Colombia en el c...| eltiempo.com/mas...|\n",
      "|               Gente| Esposa de Bruce ...| eltiempo.com/cul...|\n",
      "|             Ciencia| Este miércoles s...| eltiempo.com/vid...|\n",
      "|               Gente| El ‘gringo’ aman...| eltiempo.com/cul...|\n",
      "|               Gente| La dramática his...| eltiempo.com/cul...|\n",
      "|              Cortes| Para poner la lu...| eltiempo.com/jus...|\n",
      "|   Fútbol Colombiano| América de Cali ...| eltiempo.com/dep...|\n",
      "|          Tendencias| ¿Es la suya? ONU...| eltiempo.com/vid...|\n",
      "|               Gente| Esta es la tiend...| eltiempo.com/cul...|\n",
      "|        BLACK FRIDAY| Black Friday ini...| eltiempo.comwww....|\n",
      "|       Más Contenido| Historias que co...| eltiempo.com/mas...|\n",
      "|        BLACK FRIDAY| Black Friday ini...| eltiempo.comwww....|\n",
      "|       Más Contenido| Historias que co...| eltiempo.com/mas...|\n",
      "|     Música y Libros| Foo Fighters tie...| eltiempo.com/cul...|\n",
      "|Fútbol Internacional| Video: ¡el autog...| eltiempo.com/dep...|\n",
      "|           Reportaje| Los 4 niños perd...| eltiempo.com/col...|\n",
      "|Fútbol Internacional| Piqué y Clara Ch...| eltiempo.com/dep...|\n",
      "|              Cortes| Curules de paz: ...| eltiempo.com/jus...|\n",
      "|Unidad Investigativa| Esta es la mujer...| eltiempo.com/uni...|\n",
      "|Unidad Investigativa| Las supuestas vi...| eltiempo.com/uni...|\n",
      "|            Gobierno| ¿Qué viene con e...| eltiempo.com/pol...|\n",
      "|       Más Contenido| Eje Cafetero tri...| eltiempo.com/mas...|\n",
      "|       Más Contenido| Biocombustibles:...| eltiempo.com/mas...|\n",
      "|       Más Contenido| Eje Cafetero tri...| eltiempo.com/mas...|\n",
      "|       Más Contenido| Biocombustibles:...| eltiempo.com/mas...|\n",
      "|           Servicios| Registraduría y ...| eltiempo.com/jus...|\n",
      "|Fútbol Internacional| Video: Jurgen Kl...| eltiempo.com/dep...|\n",
      "|      Otras Ciudades| ¿Cuál es el secr...| eltiempo.com/col...|\n",
      "|               Gente| Viral: mototaxis...| eltiempo.com/cul...|\n",
      "|Unidad Investigativa| Las 7 cartas de ...| eltiempo.com/uni...|\n",
      "|ENTREVISTA DE YAM...| ‘Quiero relacion...| eltiempo.com/eco...|\n",
      "|   Fútbol Colombiano| Video: denuncian...| eltiempo.com/dep...|\n",
      "|              Bogotá| Tras crisis en g...| eltiempo.com/bog...|\n",
      "|       Más Contenido| La fibra óptica ...| eltiempo.com/mas...|\n",
      "|       Más Contenido| Biocombustibles:...| eltiempo.com/mas...|\n",
      "|       Más Contenido| La fibra óptica ...| eltiempo.com/mas...|\n",
      "|       Más Contenido| Biocombustibles:...| eltiempo.com/mas...|\n",
      "|        Barranquilla| ‘¡Yo no soy Mari...| eltiempo.com/col...|\n",
      "|            Medellín| Video: se pronun...| eltiempo.com/col...|\n",
      "| ENTREVISTA DE BOCAS| ¿Quién es el col...| eltiempo.com/cul...|\n",
      "|             Ciencia| La astrofísica v...| eltiempo.com/vid...|\n",
      "|            Sectores| Cerca de la mita...| eltiempo.com/eco...|\n",
      "|Unidad Investigativa| Este es el const...| eltiempo.com/uni...|\n",
      "|            Gobierno| Presidente Petro...| eltiempo.com/pol...|\n",
      "|           Educación| El bullying azot...| eltiempo.com/vid...|\n",
      "|       Más Contenido| Emprendimientos ...| eltiempo.com/mas...|\n",
      "|       Más Contenido| Biocombustibles:...| eltiempo.com/mas...|\n",
      "|       Más Contenido| Emprendimientos ...| eltiempo.com/mas...|\n",
      "|       Más Contenido| Biocombustibles:...| eltiempo.com/mas...|\n",
      "|Fútbol Internacional| Gerard Piqué y e...| eltiempo.com/dep...|\n",
      "|            Gobierno| Video: en gira p...| eltiempo.com/pol...|\n",
      "|               Gente| Los novios que g...| eltiempo.com/cul...|\n",
      "|               Gente| Los mitos detrás...| eltiempo.com/cul...|\n",
      "|            Sectores| Minhacienda resp...| eltiempo.com/eco...|\n",
      "|Unidad Investigativa| Esta es la ident...| eltiempo.com/uni...|\n",
      "|           Educación| 26 universidades...| eltiempo.com/vid...|\n",
      "|Unidad Investigativa| Exclusivo: carta...| eltiempo.com/uni...|\n",
      "|        BLACK FRIDAY| Black Friday lle...| eltiempo.comhttp...|\n",
      "|Contenido Patroci...| El impacto de Bl...| eltiempo.com/con...|\n",
      "|        BLACK FRIDAY| Black Friday lle...| eltiempo.comhttp...|\n",
      "|Contenido Patroci...| El impacto de Bl...| eltiempo.com/con...|\n",
      "|               Gente| Así se veía Lina...| eltiempo.com/cul...|\n",
      "|Fútbol Internacional| Shakira tenía ra...| eltiempo.com/dep...|\n",
      "|             Ciencia| Pene de sangre o...| eltiempo.com/vid...|\n",
      "|                EEUU| Lotería de visas...| eltiempo.com/mun...|\n",
      "|            Medellín| Aberrante caso d...| eltiempo.com/col...|\n",
      "|            Sectores| Precios de los c...| eltiempo.com/eco...|\n",
      "|   Fútbol Colombiano| Así fue el accid...| eltiempo.com/dep...|\n",
      "|Unidad Investigativa| ¿Quién es el nue...| eltiempo.com/uni...|\n",
      "|        BLACK FRIDAY| Black Friday lle...| eltiempo.comhttp...|\n",
      "|        BLACK FRIDAY| Con más de 100 m...| eltiempo.com/eco...|\n",
      "|        BLACK FRIDAY| Black Friday lle...| eltiempo.comhttp...|\n",
      "|        BLACK FRIDAY| Con más de 100 m...| eltiempo.com/eco...|\n",
      "|Fútbol Internacional| Piqué busca reva...| eltiempo.com/dep...|\n",
      "|      Medio Ambiente| Así afectaría al...| eltiempo.com/vid...|\n",
      "|               Gente| Eructaba demasia...| eltiempo.com/cul...|\n",
      "|              Bogotá| Marchas en Bogot...| eltiempo.com/bog...|\n",
      "|       Latinoamérica| Partido de ultra...| eltiempo.com/mun...|\n",
      "|Unidad Investigativa| Regresó al país ...| eltiempo.com/uni...|\n",
      "|   Fútbol Colombiano| Millonarios hizo...| eltiempo.com/dep...|\n",
      "|       Investigación| Tensión entre el...| eltiempo.com/jus...|\n",
      "|        BLACK FRIDAY| Black Friday lle...| eltiempo.comhttp...|\n",
      "|        BLACK FRIDAY| Con más de 100 m...| eltiempo.com/eco...|\n",
      "|        BLACK FRIDAY| Black Friday lle...| eltiempo.comhttp...|\n",
      "|        BLACK FRIDAY| Con más de 100 m...| eltiempo.com/eco...|\n",
      "|               Gente| Última esposa de...| eltiempo.com/cul...|\n",
      "|       Latinoamérica| Murió el general...| eltiempo.com/mun...|\n",
      "|               Gente| La confesión de ...| eltiempo.com/cul...|\n",
      "|Fútbol Internacional| Video: Shakira s...| eltiempo.com/dep...|\n",
      "|            Congreso| De Vargas Lleras...| eltiempo.com/pol...|\n",
      "|   Fútbol Colombiano| Exjugadora de Mi...| eltiempo.com/dep...|\n",
      "|              Cortes| Corte condenó al...| eltiempo.com/jus...|\n",
      "|      Medio Ambiente| Denuncian que PN...| eltiempo.com/vid...|\n",
      "|        BLACK FRIDAY| Black Friday lle...| eltiempo.comhttp...|\n",
      "|     Foros El Tiempo| MiPyMe + Crecimi...| eltiempo.com/for...|\n",
      "|        BLACK FRIDAY| Black Friday lle...| eltiempo.comhttp...|\n",
      "|     Foros El Tiempo| MiPyMe + Crecimi...| eltiempo.com/for...|\n",
      "|              Europa| Coronación del r...| eltiempo.com/mun...|\n",
      "|              Europa| Sobreviviente de...| eltiempo.com/mun...|\n",
      "|             Ciencia| En fotos: ¿por q...| eltiempo.com/vid...|\n",
      "|       Arte y Teatro| Falleció la escu...| eltiempo.com/cul...|\n",
      "|            Sectores| Cámara aprueba e...| eltiempo.com/eco...|\n",
      "|Unidad Investigativa| El tuit contra f...| eltiempo.com/uni...|\n",
      "|                EEUU| El pasado en El ...| eltiempo.com/mun...|\n",
      "|Unidad Investigativa| Atención: JEP de...| eltiempo.com/uni...|\n",
      "|        BLACK FRIDAY| Black Friday lle...| eltiempo.com/col...|\n",
      "|        BLACK FRIDAY| Vuelve Black Fri...| eltiempo.com/eco...|\n",
      "|        BLACK FRIDAY| Black Friday lle...| eltiempo.com/col...|\n",
      "|        BLACK FRIDAY| Vuelve Black Fri...| eltiempo.com/eco...|\n",
      "|           Cine y Tv| Makoto Shinkai: ...| eltiempo.com/cul...|\n",
      "|               Gente| ¿Qué hace hoy An...| eltiempo.com/cul...|\n",
      "|               Gente| Eructaba demasia...| eltiempo.com/cul...|\n",
      "|               Gente| Así se veía Hass...| eltiempo.com/cul...|\n",
      "|      Medio Ambiente| Fenómeno de El N...| eltiempo.com/vid...|\n",
      "|Fútbol Internacional| Millonarios pagó...| eltiempo.com/dep...|\n",
      "|               Datos| ¿Qué bienes y pa...| eltiempo.com/dat...|\n",
      "|Unidad Investigativa| Exclusivo: Colom...| eltiempo.com/uni...|\n",
      "|       Más Contenido| Emprendimientos ...| eltiempo.com/mas...|\n",
      "|        BLACK FRIDAY| Vuelve Black Fri...| eltiempo.com/eco...|\n",
      "|       Más Contenido| Emprendimientos ...| eltiempo.com/mas...|\n",
      "|        BLACK FRIDAY| Vuelve Black Fri...| eltiempo.com/eco...|\n",
      "|            Gobierno| Hija de Jorge El...| eltiempo.com/pol...|\n",
      "|                Apps| Novedades de Air...| eltiempo.com/tec...|\n",
      "|               Gente| La macabra histo...| eltiempo.com/cul...|\n",
      "|               Gente| ¿Por qué se pone...| eltiempo.com/cul...|\n",
      "|       Investigación| Poderoso exinteg...| eltiempo.com/jus...|\n",
      "|            Sectores| La ponencia de r...| eltiempo.com/eco...|\n",
      "|            Gobierno| 'No se puede ser...| eltiempo.com/pol...|\n",
      "|              Bogotá| Video: ladrón qu...| eltiempo.com/bog...|\n",
      "|Contenido Patroci...| ¿Por qué su empr...| eltiempo.com/con...|\n",
      "|       Más Contenido| eCommerce Day Co...| eltiempo.com/mas...|\n",
      "|       Más Contenido| eCommerce Day Co...| eltiempo.com/mas...|\n",
      "|               Salud| Estas son alguna...| eltiempo.com/sal...|\n",
      "|              Bogotá| Bogotá: este es ...| eltiempo.com/bog...|\n",
      "|                  W6| ¿Por qué los gob...| eltiempo.com/pod...|\n",
      "|       Latinoamérica| ¿A qué se refier...| eltiempo.com/mun...|\n",
      "|            Judicial| Fiscalía llama a...| elespectador.com...|\n",
      "|            Judicial|                    |                    |\n",
      "|Informe Final Com...| Así funcionó la ...| elespectador.com...|\n",
      "|            Política| Reforma a la sal...| elespectador.com...|\n",
      "|        Más regiones| Cuerpos de los a...| elespectador.com...|\n",
      "|               Salud| Reforma a la sal...| elespectador.com...|\n",
      "|              Bogotá| Desnaturalizar l...| elespectador.com...|\n",
      "|            Judicial| A la cárcel homb...| elespectador.com...|\n",
      "| El Magazín Cultural| Museos de la mem...| elespectador.com...|\n",
      "|              Perros| “Debe existir ma...| elespectador.com...|\n",
      "|Contenido patroci...| Un Bosque en Tot...| elespectador.com...|\n",
      "|          Especiales| ¿Cómo avanza Bog...| elespectador.com...|\n",
      "|              Bogotá| Sistema de prote...| elespectador.com...|\n",
      "|              Bogotá|                    |                    |\n",
      "|       Paz y Memoria| “La mesa de diál...| elespectador.com...|\n",
      "|       Macroeconomía| El PIB creció 3 ...| elespectador.com...|\n",
      "|            Política| “Necesitamos a C...| elespectador.com...|\n",
      "|           Conflicto| “La corrupción y...| elespectador.com...|\n",
      "|            Política| Las 14 preguntas...| elespectador.com...|\n",
      "|       Investigación| Tren de Aragua: ...| elespectador.com...|\n",
      "|             América| Rudolph Giuliani...| elespectador.com...|\n",
      "|               Salud| Alejandro Gaviri...| elespectador.com...|\n",
      "|Contenido patroci...| Tecnología y art...| elespectador.com...|\n",
      "|          Especiales| ¿Cómo avanza Bog...| elespectador.com...|\n",
      "|              Bogotá| Riesgo de reclut...| elespectador.com...|\n",
      "|              Bogotá|                    |                    |\n",
      "|            Política| Reforma a la sal...| elespectador.com...|\n",
      "|       Macroeconomía| Lo que dice el i...| elespectador.com...|\n",
      "|            Empresas| Novedad en el fr...| elespectador.com...|\n",
      "|             América| Twitter le falló...| elespectador.com...|\n",
      "|             América| George Floyd: la...| elespectador.com...|\n",
      "|       Paz y Memoria| Acompañantes rep...| elespectador.com...|\n",
      "|               Mundo| El Espectador le...| elespectador.com...|\n",
      "|              Música| Tina Turner y cu...| elespectador.com...|\n",
      "|Contenido patroci...| ¿Cómo fomentar l...| elespectador.com...|\n",
      "|Contenido patroci...| Televisores Sams...| elespectador.com...|\n",
      "|              Bogotá| El estado de El ...| elespectador.com...|\n",
      "|              Bogotá|                    |                    |\n",
      "|            Política| “Me metieron los...| elespectador.com...|\n",
      "|  Justicia Inclusiva| El caso de viole...| elespectador.com...|\n",
      "|             América| El carrusel de l...| elespectador.com...|\n",
      "|       Paz y Memoria| El llamado de or...| elespectador.com...|\n",
      "|            Política| ¿Cómo se siente ...| elespectador.com...|\n",
      "|              Bogotá| Muere bebé indíg...| elespectador.com...|\n",
      "|              Música| Enrique Bunbury:...| elespectador.com...|\n",
      "| El Magazín Cultural| “Estar en el Fes...| elespectador.com...|\n",
      "|Contenido patroci...| ¿Cómo fomentar l...| elespectador.com...|\n",
      "|Contenido patroci...| Televisores Sams...| elespectador.com...|\n",
      "|            Política| Los campesinos a...| elespectador.com...|\n",
      "|            Política|                    |                    |\n",
      "|            Ambiente| “No se habla tan...| elespectador.com...|\n",
      "|            Política| Petro asegura qu...| elespectador.com...|\n",
      "| El Magazín Cultural| Balance de la re...| elespectador.com...|\n",
      "|  Selección Colombia| Las figuras de C...| elespectador.com...|\n",
      "|              Bogotá| En el dilema del...| elespectador.com...|\n",
      "|   Atlético Nacional| Con el triunfo d...| elespectador.com...|\n",
      "| El Magazín Cultural| Wes Anderson cre...| elespectador.com...|\n",
      "|              Bogotá| Sec. de Salud re...| elespectador.com...|\n",
      "|Contenido patroci...| ¿Cómo fomentar l...| elespectador.com...|\n",
      "|Contenido patroci...| Televisores Sams...| elespectador.com...|\n",
      "|          Más países| El poder de Erdo...| elespectador.com...|\n",
      "|          Más países|                    |                    |\n",
      "|  Selección Colombia| Video: reviva lo...| elespectador.com...|\n",
      "|       Paz y Memoria| Fotos: ‘Caminos ...| elespectador.com...|\n",
      "|             Ciencia| Hallan tumba de ...| elespectador.com...|\n",
      "|            Ambiente| Aumenta el nivel...| elespectador.com...|\n",
      "|            Política| Carlos Amaya: de...| elespectador.com...|\n",
      "|             América| Chile: acusan a ...| elespectador.com...|\n",
      "|            Ambiente| La ciencia debat...| elespectador.com...|\n",
      "|          Más países| Ucrania obtiene ...| elespectador.com...|\n",
      "|Contenido patroci...| Un Bosque en Tot...| elespectador.com...|\n",
      "|          Especiales| ¿Cómo avanza Bog...| elespectador.com...|\n",
      "|            Política| Balance de Franc...| elespectador.com...|\n",
      "|       Paz y Memoria| Petro insta al E...| elespectador.com...|\n",
      "|            Política| Habla la exminis...| elespectador.com...|\n",
      "|            Política| Nuestros océanos...| elespectador.com...|\n",
      "|            Política| Tal vez la intel...| elespectador.com...|\n",
      "| El Magazín Cultural| “Anoxia” gran no...| elespectador.com...|\n",
      "|              Bogotá| Gobernación de C...| elespectador.com...|\n",
      "|         Millonarios| Liga BetPlay: Mi...| elespectador.com...|\n",
      "|Contenido patroci...| Tecnología y art...| elespectador.com...|\n",
      "|Contenido patroci...| Colombia ¿potenc...| elespectador.com...|\n",
      "|       Macroeconomía| ¿Cuáles son las ...| elespectador.com...|\n",
      "|            Judicial| Fiscalía abre in...| elespectador.com...|\n",
      "|            Política| Reforma a la sal...| elespectador.com...|\n",
      "|            Judicial| Comunidad dejó e...| elespectador.com...|\n",
      "|            Economía| Fenómeno de El N...| elespectador.com...|\n",
      "|            Política| “Petro ataca y p...| elespectador.com...|\n",
      "|             América| EE. UU.: Cámara ...| elespectador.com...|\n",
      "|      Fútbol mundial| Europa League: R...| elespectador.com...|\n",
      "|          Especiales| Empleo formal y ...| elespectador.com...|\n",
      "|Contenido patroci...| Colombia ¿potenc...| elespectador.com...|\n",
      "|        Más regiones| Con mensaje de l...| elespectador.com...|\n",
      "|        Más regiones|                    |                    |\n",
      "|            Política| Reforma al Códig...| elespectador.com...|\n",
      "|              Bogotá| Así han evolucio...| elespectador.com...|\n",
      "|            Política| Feminicidios en ...| elespectador.com...|\n",
      "|         Blog El Río| Los problemas de...| elespectador.com...|\n",
      "|             América| Incertidumbre in...| elespectador.com...|\n",
      "|            Judicial| Salvatore Mancus...| elespectador.com...|\n",
      "|       Paz y Memoria| Sindicato del CN...| elespectador.com...|\n",
      "|      Fútbol mundial| Inter de Milán: ...| elespectador.com...|\n",
      "|Contenido patroci...| Tecnología y art...| elespectador.com...|\n",
      "|          Especiales| ¿Cómo avanza Bog...| elespectador.com...|\n",
      "|       Paz y Memoria| Arauca: ¿por qué...| elespectador.com...|\n",
      "|       Paz y Memoria|                    |                    |\n",
      "|        Más regiones| Las versiones en...| elespectador.com...|\n",
      "|            Política| Dilian Francisca...| elespectador.com...|\n",
      "|             América| Ecuador: Guiller...| elespectador.com...|\n",
      "|              Bogotá| Las alertas que ...| elespectador.com...|\n",
      "|             América| Así afianza Chin...| elespectador.com...|\n",
      "|        Más deportes| Lucía Bautista: ...| elespectador.com...|\n",
      "|             América| El Salvador y Gu...| elespectador.com...|\n",
      "|   Fútbol Colombiano| Liga BetPlay: Ág...| elespectador.com...|\n",
      "|Contenido patroci...| Tecnología y art...| elespectador.com...|\n",
      "|          Especiales| ¿Cómo avanza Bog...| elespectador.com...|\n",
      "|               Mundo| Más allá de los ...| elespectador.com...|\n",
      "|       Paz y Memoria| La propuesta de ...| elespectador.com...|\n",
      "|            Política| El Espectador le...| elespectador.com...|\n",
      "|       Macroeconomía| ¿Se ve la luz al...| elespectador.com...|\n",
      "|            Judicial| Cártel de la tog...| elespectador.com...|\n",
      "|       Macroeconomía| Alza en la gasol...| elespectador.com...|\n",
      "|       Macroeconomía| Reforma laboral:...| elespectador.com...|\n",
      "| El Magazín Cultural| El rito milenari...| elespectador.com...|\n",
      "|Contenido patroci...| Eco Renueva la n...| elespectador.com...|\n",
      "|Contenido patroci...| Asma: la segunda...| elespectador.com...|\n",
      "|             América| La agridulce cum...| elespectador.com...|\n",
      "|       Macroeconomía| Confianza el ret...| elespectador.com...|\n",
      "|            Judicial| “El fiscal habla...| elespectador.com...|\n",
      "|            Judicial| El Ejército inco...| elespectador.com...|\n",
      "|            Judicial| Líder de las dis...| elespectador.com...|\n",
      "|              Bogotá| ¿Izquierda centr...| elespectador.com...|\n",
      "|             América| ¿Relaciones tria...| elespectador.com...|\n",
      "|      Fútbol mundial| Duván Zapata pus...| elespectador.com...|\n",
      "|Contenido patroci...| Guardianes de la...| elespectador.com...|\n",
      "|Contenido patroci...| El Programa Caji...| elespectador.com...|\n",
      "|            Política| “Los fallos de l...| elespectador.com...|\n",
      "|       Macroeconomía| ¿Ha llegado el m...| elespectador.com...|\n",
      "|           Educación| Discordia porque...| elespectador.com...|\n",
      "|            Economía| Congreso aprueba...| elespectador.com...|\n",
      "|           Conflicto| Caso Lucas Villa...| elespectador.com...|\n",
      "|       Colombia + 20| “¿De qué volunta...| elespectador.com...|\n",
      "|             América| Así fue la visit...| elespectador.com...|\n",
      "|              Bogotá| ¿Ya renovó su pa...| elespectador.com...|\n",
      "|          Especiales| Así avanza Bogot...| elespectador.com...|\n",
      "|Contenido patroci...| Certifikado la p...| elespectador.com...|\n",
      "|            Empresas| El futuro de Viv...| elespectador.com...|\n",
      "|            Judicial| Gustavo Petro es...| elespectador.com...|\n",
      "|          Más países| Una Turquía divi...| elespectador.com...|\n",
      "|       Paz y Memoria| Las otras pugnas...| elespectador.com...|\n",
      "|               Gente| El turbante símb...| elespectador.com...|\n",
      "|            Amazonas| Proteger los ter...| elespectador.com...|\n",
      "|            Judicial| Este es el futur...| elespectador.com...|\n",
      "|             América| Congreso de Ecua...| elespectador.com...|\n",
      "|Contenido patroci...| Tecnología y art...| elespectador.com...|\n",
      "|Contenido patroci...| Colombia ¿potenc...| elespectador.com...|\n",
      "|            Economía| “Latam nunca se ...| elespectador.com...|\n",
      "|            Judicial| El ELN afirma bu...| elespectador.com...|\n",
      "|             Ciencia| Las prioridades ...| elespectador.com...|\n",
      "|    Moda e Industria| Gala del MET 202...| elespectador.com...|\n",
      "| El Magazín Cultural| “232 días”: lo q...| elespectador.com...|\n",
      "|             América| SDG Quality Trac...| elespectador.com...|\n",
      "|              Música| Un sueño musical...| elespectador.com...|\n",
      "|       Colombia + 20| Diálogos con las...| elespectador.com...|\n",
      "|Contenido patroci...| Guardianes de la...| elespectador.com...|\n",
      "|Contenido patroci...| El Programa Caji...| elespectador.com...|\n",
      "|            Política| Gobierno y parti...| elespectador.com...|\n",
      "|            Judicial| Nicolás Petro re...| elespectador.com...|\n",
      "|              Bogotá| Primera línea de...| elespectador.com...|\n",
      "|            Judicial| Clan del Golfo e...| elespectador.com...|\n",
      "|             América| EE. UU.: el fina...| elespectador.com...|\n",
      "|            Judicial| Punto final a ca...| elespectador.com...|\n",
      "|             América| Ninguna paradoja...| elespectador.com...|\n",
      "|             América| Cumbre de Ucrani...| elespectador.com...|\n",
      "|          Especiales| Empleo formal y ...| elespectador.com...|\n",
      "|Contenido patroci...| Colombia ¿potenc...| elespectador.com...|\n",
      "|       Macroeconomía| Gonzalo Hernánde...| elespectador.com...|\n",
      "|              Bogotá| Vía Bogotá-Girar...| elespectador.com...|\n",
      "|             América| ¿Qué tanto les i...| elespectador.com...|\n",
      "|             Ciencia| Madres en países...| elespectador.com...|\n",
      "|            Política| ¿Para qué una pr...| elespectador.com...|\n",
      "|               Salud| Piden a la Unión...| elespectador.com...|\n",
      "|          Más países| Empeora la crisi...| elespectador.com...|\n",
      "|            Política| ¿Qué hará Gustav...| elespectador.com...|\n",
      "|Contenido patroci...| Guardianes de la...| elespectador.com...|\n",
      "|Contenido patroci...| El Programa Caji...| elespectador.com...|\n",
      "|            Política| Aumentó violenci...| elespectador.com...|\n",
      "|            Política|                    |                    |\n",
      "|            Política| “Danilo Rueda mi...| elespectador.com...|\n",
      "|             América| EE. UU.: sin acu...| elespectador.com...|\n",
      "|            Colombia| Helicóptero pers...| elespectador.com...|\n",
      "|            Política| Disidencias de l...| elespectador.com...|\n",
      "|             América| Tim Scott el nue...| elespectador.com...|\n",
      "| El Magazín Cultural| Martin Scorsese ...| elespectador.com...|\n",
      "|             América| Incendio que dej...| elespectador.com...|\n",
      "|   Fútbol Colombiano| Alianza Petroler...| elespectador.com...|\n",
      "|Contenido patroci...| Un Bosque en Tot...| elespectador.com...|\n",
      "|          Especiales| ¿Cómo avanza Bog...| elespectador.com...|\n",
      "|            Política| Aprobada en prim...| elespectador.com...|\n",
      "|            Política|                    |                    |\n",
      "|               Salud| Lo que sigue par...| elespectador.com...|\n",
      "|            Judicial| Fiscalía apela f...| elespectador.com...|\n",
      "|            Política| Cese al fuego: u...| elespectador.com...|\n",
      "|            Judicial| Consejo de Estad...| elespectador.com...|\n",
      "|            Economía| Las buenas y mal...| elespectador.com...|\n",
      "|          Actualidad| Así continúa la ...| elespectador.com...|\n",
      "|  Selección Colombia| Una generación p...| elespectador.com...|\n",
      "|               Salud| Otra señal para ...| elespectador.com...|\n",
      "|Contenido patroci...| ¿Cómo fomentar l...| elespectador.com...|\n",
      "|Contenido patroci...| Televisores Sams...| elespectador.com...|\n",
      "|              Bogotá| La ciudadanía no...| elespectador.com...|\n",
      "|              Bogotá|                    |                    |\n",
      "|  Justicia Inclusiva| Abril: el mes má...| elespectador.com...|\n",
      "|             Ciencia| La primera guía ...| elespectador.com...|\n",
      "|            Judicial| Estamos obligado...| elespectador.com...|\n",
      "|             América| El Canciller de ...| elespectador.com...|\n",
      "|            Política| Con la sanción d...| elespectador.com...|\n",
      "|          Más países| Siria vuelve a o...| elespectador.com...|\n",
      "|             Ciencia| Es poco probable...| elespectador.com...|\n",
      "|              Música| Lisandro Aristim...| elespectador.com...|\n",
      "|Contenido patroci...| Un Bosque en Tot...| elespectador.com...|\n",
      "|          Especiales| ¿Cómo avanza Bog...| elespectador.com...|\n",
      "|            Judicial| Exsenador Musa B...| elespectador.com...|\n",
      "|            Política| Pese a críticas ...| elespectador.com...|\n",
      "|            Política| Roy Barreras: si...| elespectador.com...|\n",
      "|              Europa| De príncipe a re...| elespectador.com...|\n",
      "|            Economía| Los seis artícul...| elespectador.com...|\n",
      "|              Bogotá| Distrito quiere ...| elespectador.com...|\n",
      "|            Judicial| El llamado de la...| elespectador.com...|\n",
      "|             América| Ciudadanos colom...| elespectador.com...|\n",
      "|          Especiales| Así avanza Bogot...| elespectador.com...|\n",
      "|          Especiales| En Soacha inicia...| elespectador.com...|\n",
      "|            Judicial| Gobierno confirm...| elespectador.com...|\n",
      "|            Judicial|                    |                    |\n",
      "|            Política| “Somos lideresas...| elespectador.com...|\n",
      "|              Bogotá| El machismo mata...| elespectador.com...|\n",
      "|            Judicial| Harvard y U. del...| elespectador.com...|\n",
      "|              Música| Fito Páez: la no...| elespectador.com...|\n",
      "|               Mundo| “Vaticangate”: ¿...| elespectador.com...|\n",
      "|            Colombia| Lanzan 100 kits ...| elespectador.com...|\n",
      "|               Salud| Las prioridades ...| elespectador.com...|\n",
      "| Finanzas personales| ¿Por qué Nequi b...| elespectador.com...|\n",
      "|Contenido patroci...| Un Bosque en Tot...| elespectador.com...|\n",
      "|          Especiales| ¿Cómo avanza Bog...| elespectador.com...|\n",
      "|       Paz y Memoria| Delegación de EL...| elespectador.com...|\n",
      "|            Judicial| Decir que favore...| elespectador.com...|\n",
      "|            Política| Los beneficios y...| elespectador.com...|\n",
      "|              Bogotá| Tras cuatro días...| elespectador.com...|\n",
      "|            Política| Los puntos clave...| elespectador.com...|\n",
      "|             América| Así se vivió en ...| elespectador.com...|\n",
      "|            Ambiente| Una “selva multi...| elespectador.com...|\n",
      "| El Magazín Cultural| “Domo”: cuando l...| elespectador.com...|\n",
      "|Contenido patroci...| Tecnología y art...| elespectador.com...|\n",
      "|Contenido patroci...| Colombia ¿potenc...| elespectador.com...|\n",
      "|         Millonarios| Millonarios se q...| elespectador.com...|\n",
      "|            Amazonas| Los ingredientes...| elespectador.com...|\n",
      "|           Conflicto| Abril el mes con...| elespectador.com...|\n",
      "|             Ciencia| Proponen nueva f...| elespectador.com...|\n",
      "|              Música| Así llegó la mús...| elespectador.com...|\n",
      "|           Cine y TV| Johanna Cure y e...| elespectador.com...|\n",
      "| El Magazín Cultural| Sophia Vari y el...| elespectador.com...|\n",
      "|              Música| Cuando el río su...| elespectador.com...|\n",
      "|          Especiales| Empleo formal y ...| elespectador.com...|\n",
      "|          Especiales| En Soacha inicia...| elespectador.com...|\n",
      "|            Política| “Hay que reconoc...| elespectador.com...|\n",
      "|             América| Chile escoge est...| elespectador.com...|\n",
      "|            Colombia| El lucrativo mer...| elespectador.com...|\n",
      "|              Música| Así llegó la mús...| elespectador.com...|\n",
      "|              Bogotá| Multa de $10 mil...| elespectador.com...|\n",
      "|            Judicial| Clan del Golfo a...| elespectador.com...|\n",
      "|            Judicial| Los cambios en r...| elespectador.com...|\n",
      "|   Fútbol Colombiano| El Campín no ser...| elespectador.com...|\n",
      "|          Especiales| Así avanza Bogot...| elespectador.com...|\n",
      "|          Especiales| En Soacha inicia...| elespectador.com...|\n",
      "|            Economía| Consejo Gremial ...| elespectador.com...|\n",
      "|               Mundo| Estas son las ga...| elespectador.com...|\n",
      "|              Bogotá| Ser motociclista...| elespectador.com...|\n",
      "|            Judicial| Hijo de Enilse L...| elespectador.com...|\n",
      "|            Política| PND: Sobrevive e...| elespectador.com...|\n",
      "|             América| Ecuador y su peo...| elespectador.com...|\n",
      "|           Cine y TV| Toni Collette “L...| elespectador.com...|\n",
      "|      Fútbol mundial| Los futbolistas ...| elespectador.com...|\n",
      "|Contenido patroci...| Guardianes de la...| elespectador.com...|\n",
      "|Contenido patroci...| Asma: la segunda...| elespectador.com...|\n",
      "|             América| Fin del Título 4...| elespectador.com...|\n",
      "|              Bogotá| Distrito auxilia...| elespectador.com...|\n",
      "|            Judicial| Lo novedoso y lo...| elespectador.com...|\n",
      "|            Política| Roy Barreras pid...| elespectador.com...|\n",
      "| El Magazín Cultural| El viaje de Fran...| elespectador.com...|\n",
      "|             Ciencia| La primera plant...| elespectador.com...|\n",
      "|            Economía| El Espectador le...| elespectador.com...|\n",
      "|           Cine y TV| Sin tapujos: el ...| elespectador.com...|\n",
      "|          Especiales| Empleo formal y ...| elespectador.com...|\n",
      "|Contenido patroci...| Colombia ¿potenc...| elespectador.com...|\n",
      "|            Judicial| Tras reunión con...| elespectador.com...|\n",
      "|            Empresas| Cae la utilidad ...| elespectador.com...|\n",
      "|             América| Trump responsabl...| elespectador.com...|\n",
      "|            Política| Miguel Ángel Pin...| elespectador.com...|\n",
      "|             América| Guillermo Lasso ...| elespectador.com...|\n",
      "|            Economía| Empleados públic...| elespectador.com...|\n",
      "|    Moda e Industria| La moda en Bogot...| elespectador.com...|\n",
      "|           Cine y TV| La representació...| elespectador.com...|\n",
      "|          Especiales| Empleo formal y ...| elespectador.com...|\n",
      "|Contenido patroci...| Colombia ¿potenc...| elespectador.com...|\n",
      "|     Entretenimiento|                    |                    |\n",
      "|     Entretenimiento| Marcelo Cezán co...| https://www.publ...|\n",
      "|     Entretenimiento| ¿Estragos de su ...| https://www.publ...|\n",
      "|             Cultura| Calle y Poché: l...| https://www.publ...|\n",
      "|            Deportes| Santiago Alarcón...| https://www.publ...|\n",
      "|            Deportes| Vanessa Córdoba ...| https://www.publ...|\n",
      "|              Celebs|                    |                    |\n",
      "|     Entretenimiento|                    |                    |\n",
      "|            Deportes|                    |                    |\n",
      "|     Entretenimiento|                    |                    |\n",
      "|     Entretenimiento| Tatiana Ángel ex...| https://www.publ...|\n",
      "|     Entretenimiento| ¿Tanto factura e...| https://www.publ...|\n",
      "|             Cultura| ¿Planes para el ...| https://www.publ...|\n",
      "|            Deportes| Yerry Mina no se...| https://www.publ...|\n",
      "|            Deportes| Famoso periodist...| https://www.publ...|\n",
      "|              Celebs|                    |                    |\n",
      "|     Entretenimiento|                    |                    |\n",
      "|            Deportes|                    |                    |\n",
      "|     Entretenimiento|                    |                    |\n",
      "|     Entretenimiento| ¿Superó las expe...| https://www.publ...|\n",
      "|     Entretenimiento| “Uno tiene que s...| https://www.publ...|\n",
      "|             Cultura| Conozca los arti...| https://www.publ...|\n",
      "|            Deportes| ¡Ilusionaron a J...| https://www.publ...|\n",
      "|            Deportes| Pillaron a Teófi...| https://www.publ...|\n",
      "|            Colombia|                    |                    |\n",
      "|             Espacio|                    |                    |\n",
      "|            Deportes|                    |                    |\n",
      "|     Entretenimiento|                    |                    |\n",
      "|     Entretenimiento| ¿Ahora en Tinder...| https://www.publ...|\n",
      "|     Entretenimiento| ¿No le gustó ni ...| https://www.publ...|\n",
      "|             Cultura| Calle y Poché: l...| https://www.publ...|\n",
      "|            Deportes| Macálister exalt...| https://www.publ...|\n",
      "|            Deportes| Melissa Martínez...| https://www.publ...|\n",
      "|              Celebs|                    |                    |\n",
      "|        Aplicaciones|                    |                    |\n",
      "|            Deportes|                    |                    |\n",
      "|     Entretenimiento|                    |                    |\n",
      "|     Entretenimiento| ¿Será que la ati...| https://www.publ...|\n",
      "|     Entretenimiento| “Le pedí a papá ...| https://www.publ...|\n",
      "|             Cultura| Calle y Poché: l...| https://www.publ...|\n",
      "|            Deportes| Entre lágrimas m...| https://www.publ...|\n",
      "|            Deportes| ‘Millos’ confirm...| https://www.publ...|\n",
      "|              Celebs|                    |                    |\n",
      "|            Sneakers|                    |                    |\n",
      "|            Deportes|                    |                    |\n",
      "|     Entretenimiento|                    |                    |\n",
      "|     Entretenimiento| Hermano de Shaki...| https://www.publ...|\n",
      "|     Entretenimiento| Melissa Martínez...| https://www.publ...|\n",
      "|             Cultura| Calle y Poché: l...| https://www.publ...|\n",
      "|            Deportes| Dorlan Pabón nac...| https://www.publ...|\n",
      "|            Deportes| Victoria Beckham...| https://www.publ...|\n",
      "|              Celebs|                    |                    |\n",
      "|     Entretenimiento|                    |                    |\n",
      "|            Deportes|                    |                    |\n",
      "|     Entretenimiento|                    |                    |\n",
      "|     Entretenimiento| Apoteósicas: Sha...| https://www.publ...|\n",
      "|     Entretenimiento| Maric* ya: Anuel...| https://www.publ...|\n",
      "|             Cultura| ¿Planes para el ...| https://www.publ...|\n",
      "|            Deportes| La cosa es seria...| https://www.publ...|\n",
      "|            Deportes| ¿La mejor del añ...| https://www.publ...|\n",
      "|              Celebs|                    |                    |\n",
      "|     Entretenimiento|                    |                    |\n",
      "|            Deportes|                    |                    |\n",
      "|     Entretenimiento|                    |                    |\n",
      "|     Entretenimiento| “El amor llega a...| https://www.publ...|\n",
      "|     Entretenimiento| “Me mandaron a e...| https://www.publ...|\n",
      "|             Cultura| Conozca los arti...| https://www.publ...|\n",
      "|            Deportes| Escándalo en la ...| https://www.publ...|\n",
      "|            Deportes| Mundial Sub-20: ...| https://www.publ...|\n",
      "|            Colombia|                    |                    |\n",
      "|     Entretenimiento|                    |                    |\n",
      "|            Deportes|                    |                    |\n",
      "|     Entretenimiento|                    |                    |\n",
      "|     Entretenimiento| Melissa Martínez...| https://www.publ...|\n",
      "|     Entretenimiento| ¿Siguen vivos o ...| https://www.publ...|\n",
      "|             Cultura| Conozca los arti...| https://www.publ...|\n",
      "|            Deportes| ¿Estamos para ca...| https://www.publ...|\n",
      "|            Deportes| Hinchas de Nacio...| https://www.publ...|\n",
      "|            Colombia|                    |                    |\n",
      "|             Ciencia|                    |                    |\n",
      "|     Entretenimiento|                    |                    |\n",
      "|     Entretenimiento|                    |                    |\n",
      "|     Entretenimiento| Senadora denunci...| https://www.publ...|\n",
      "|     Entretenimiento| Así fue el duro ...| https://www.publ...|\n",
      "|             Cultura| Conozca los arti...| https://www.publ...|\n",
      "|            Deportes| Cristiano Ronald...| https://www.publ...|\n",
      "|            Deportes| Borja embistió e...| https://www.publ...|\n",
      "|            Colombia|                    |                    |\n",
      "|     Entretenimiento|                    |                    |\n",
      "|            Deportes|                    |                    |\n",
      "|     Entretenimiento|                    |                    |\n",
      "|     Entretenimiento| “Aguantas tu tap...| https://www.publ...|\n",
      "|     Entretenimiento| Hijo único de Ca...| https://www.publ...|\n",
      "|             Cultura| ¿Planes para el ...| https://www.publ...|\n",
      "|            Deportes| Daniel Samper se...| https://www.publ...|\n",
      "|            Deportes| Matheus Uribe te...| https://www.publ...|\n",
      "|              Celebs|                    |                    |\n",
      "|     Entretenimiento|                    |                    |\n",
      "|     Entretenimiento|                    |                    |\n",
      "|     Entretenimiento|                    |                    |\n",
      "|     Entretenimiento| Estos serían los...| https://www.publ...|\n",
      "|     Entretenimiento| “No estoy de acu...| https://www.publ...|\n",
      "|             Cultura| Conozca los arti...| https://www.publ...|\n",
      "|            Deportes| Disfrútalo que s...| https://www.publ...|\n",
      "|            Deportes| ‘El Tino’ Aspril...| https://www.publ...|\n",
      "|            Colombia|                    |                    |\n",
      "|     Entretenimiento|                    |                    |\n",
      "|            Deportes|                    |                    |\n",
      "|     Entretenimiento|                    |                    |\n",
      "|     Entretenimiento| Yanfri el niño r...| https://www.publ...|\n",
      "|     Entretenimiento| Una exnovia de J...| https://www.publ...|\n",
      "|             Cultura| Calle y Poché: l...| https://www.publ...|\n",
      "|            Deportes| Leicy Santos se ...| https://www.publ...|\n",
      "|            Deportes| Santos Borré jug...| https://www.publ...|\n",
      "|              Celebs|                    |                    |\n",
      "|            Internet|                    |                    |\n",
      "|     Entretenimiento|                    |                    |\n",
      "|     Entretenimiento|                    |                    |\n",
      "|     Entretenimiento| Shakira estrenó ...| https://www.publ...|\n",
      "|     Entretenimiento| Amor a sus pollu...| https://www.publ...|\n",
      "|             Cultura| ¿Planes para el ...| https://www.publ...|\n",
      "|            Deportes| Los tiene de hij...| https://www.publ...|\n",
      "|            Deportes| Los Del Sur saca...| https://www.publ...|\n",
      "|              Celebs|                    |                    |\n",
      "|     Entretenimiento|                    |                    |\n",
      "|            Deportes|                    |                    |\n",
      "|     Entretenimiento|                    |                    |\n",
      "|     Entretenimiento| Carlos Vargas co...| https://www.publ...|\n",
      "|     Entretenimiento| Padres le regala...| https://www.publ...|\n",
      "|             Cultura| Fabrican cerveza...| https://www.publ...|\n",
      "|            Deportes| DT del Boca de C...| https://www.publ...|\n",
      "|            Deportes| Qué peligro: den...| https://www.publ...|\n",
      "|              Celebs|                    |                    |\n",
      "|            Internet|                    |                    |\n",
      "|            Deportes|                    |                    |\n",
      "|     Entretenimiento|                    |                    |\n",
      "|     Entretenimiento| Shakira volvió a...| https://www.publ...|\n",
      "|     Entretenimiento| ¿Así recuperará ...| https://www.publ...|\n",
      "|             Cultura| ¿Planes para el ...| https://www.publ...|\n",
      "|            Deportes| Al ‘Tino’ no le ...| https://www.publ...|\n",
      "|            Deportes| Pillaron a los j...| https://www.publ...|\n",
      "|              Celebs|                    |                    |\n",
      "|     Entretenimiento|                    |                    |\n",
      "|            Deportes|                    |                    |\n",
      "|     Entretenimiento|                    |                    |\n",
      "|     Entretenimiento| “Toqué muchos fo...| https://www.publ...|\n",
      "|     Entretenimiento| ¿Niño o niña?: N...| https://www.publ...|\n",
      "|             Cultura| Calle y Poché: l...| https://www.publ...|\n",
      "|            Deportes| Álvaro Montero s...| https://www.publ...|\n",
      "|            Deportes| David Ospina les...| https://www.publ...|\n",
      "|              Celebs|                    |                    |\n",
      "|     Entretenimiento|                    |                    |\n",
      "|            Deportes|                    |                    |\n",
      "|     Entretenimiento|                    |                    |\n",
      "|     Entretenimiento| Yina Calderón se...| https://www.publ...|\n",
      "|     Entretenimiento| “Me fui a los 15...| https://www.publ...|\n",
      "|             Cultura| “Antójate de Ant...| https://www.publ...|\n",
      "|            Deportes| ¡El Pereira ‘mat...| https://www.publ...|\n",
      "|            Deportes| ¡Un papá orgullo...| https://www.publ...|\n",
      "|            Colombia|                    |                    |\n",
      "|            Internet|                    |                    |\n",
      "|            Deportes|                    |                    |\n",
      "|     Entretenimiento|                    |                    |\n",
      "|     Entretenimiento| “A veces no quie...| https://www.publ...|\n",
      "|     Entretenimiento| ¿No le gustó ni ...| https://www.publ...|\n",
      "|             Cultura| La carrera por u...| https://www.publ...|\n",
      "|            Deportes| ‘Bolillo’ no ‘co...| https://www.publ...|\n",
      "|            Deportes| Emocionante: jug...| https://www.publ...|\n",
      "|         TV y Series|                    |                    |\n",
      "|            Internet|                    |                    |\n",
      "|            Deportes|                    |                    |\n",
      "|     Entretenimiento|                    |                    |\n",
      "|     Entretenimiento| ¿Se acabó el amo...| https://www.publ...|\n",
      "|     Entretenimiento| “Lo odio con tod...| https://www.publ...|\n",
      "|             Cultura| Fabrican cerveza...| https://www.publ...|\n",
      "|            Deportes| No hay cama para...| https://www.publ...|\n",
      "|            Deportes| Cali sacó escuet...| https://www.publ...|\n",
      "|            Colombia|                    |                    |\n",
      "|     Entretenimiento|                    |                    |\n",
      "|            Deportes|                    |                    |\n",
      "|     Entretenimiento|                    |                    |\n",
      "|     Entretenimiento| Diomedes Díaz: c...| https://www.publ...|\n",
      "|     Entretenimiento| “Te esperamos co...| https://www.publ...|\n",
      "|             Cultura| “Antójate de Ant...| https://www.publ...|\n",
      "|            Deportes| El ‘Colibrí’ no ...| https://www.publ...|\n",
      "|            Deportes| Qué inseguridad:...| https://www.publ...|\n",
      "|            Colombia|                    |                    |\n",
      "|     Entretenimiento|                    |                    |\n",
      "|            Deportes|                    |                    |\n",
      "|     Entretenimiento|                    |                    |\n",
      "|     Entretenimiento| El costoso ‘rega...| https://www.publ...|\n",
      "|     Entretenimiento| ¿Amor a primer b...| https://www.publ...|\n",
      "|             Cultura| ¿Planes para el ...| https://www.publ...|\n",
      "|            Deportes| Por algo está en...| https://www.publ...|\n",
      "|            Deportes| ¡Los tiene locos...| https://www.publ...|\n",
      "|              Celebs|                    |                    |\n",
      "|            Internet|                    |                    |\n",
      "|            Deportes|                    |                    |\n",
      "|     Entretenimiento|                    |                    |\n",
      "|     Entretenimiento| Se le ‘motoreo’ ...| https://www.publ...|\n",
      "|     Entretenimiento| Ni Diomedes se a...| https://www.publ...|\n",
      "|             Cultura| ¿Planes para el ...| https://www.publ...|\n",
      "|            Deportes| Lo que faltaba: ...| https://www.publ...|\n",
      "|            Deportes| De ninguno se sa...| https://www.publ...|\n",
      "|              Celebs|                    |                    |\n",
      "|     Entretenimiento|                    |                    |\n",
      "|            Deportes|                    |                    |\n",
      "|     Entretenimiento|                    |                    |\n",
      "|     Entretenimiento| ‘El Pibe’ Valder...| https://www.publ...|\n",
      "|     Entretenimiento| Murió Ray Steven...| https://www.publ...|\n",
      "|             Cultura| Conozca los arti...| https://www.publ...|\n",
      "|            Deportes| “¿Por qué no gan...| https://www.publ...|\n",
      "|            Deportes| Carlos A. Vélez ...| https://www.publ...|\n",
      "|            Colombia|                    |                    |\n",
      "|             Espacio|                    |                    |\n",
      "|            Deportes|                    |                    |\n",
      "|            Noticias|                    |                    |\n",
      "|            Noticias| ¿Team changua?: ...| https://www.publ...|\n",
      "|     Entretenimiento| Yeferson Cossio ...| https://www.publ...|\n",
      "|             Cultura| ¿Planes para el ...| https://www.publ...|\n",
      "|            Deportes| James Rodríguez ...| https://www.publ...|\n",
      "|            Deportes| “Casi muero ” Sh...| https://www.publ...|\n",
      "|              Celebs|                    |                    |\n",
      "|     Entretenimiento|                    |                    |\n",
      "|            Deportes|                    |                    |\n",
      "|     Entretenimiento|                    |                    |\n",
      "|     Entretenimiento| Maluma estrenó e...| https://www.publ...|\n",
      "|     Entretenimiento| VIDEO Niño golpe...| https://www.publ...|\n",
      "|             Cultura| Fabrican cerveza...| https://www.publ...|\n",
      "|            Deportes| Emocionante: jug...| https://www.publ...|\n",
      "|            Deportes| Alianza Petroler...| https://www.publ...|\n",
      "|              Celebs|                    |                    |\n",
      "|     Entretenimiento|                    |                    |\n",
      "|            Deportes|                    |                    |\n",
      "|     Entretenimiento|                    |                    |\n",
      "|     Entretenimiento| “Mi primera clas...| https://www.publ...|\n",
      "|     Entretenimiento| ¿Cuánto cuesta e...| https://www.publ...|\n",
      "|             Cultura| Fabrican cerveza...| https://www.publ...|\n",
      "|            Deportes| Periodista argen...| https://www.publ...|\n",
      "|            Deportes| “Todavía tengo l...| https://www.publ...|\n",
      "|            Colombia|                    |                    |\n",
      "|     Entretenimiento|                    |                    |\n",
      "|            Deportes|                    |                    |\n",
      "|     Entretenimiento|                    |                    |\n",
      "|     Entretenimiento| Andrea Valdiri t...| https://www.publ...|\n",
      "|     Entretenimiento| ‘El Tino’ Aspril...| https://www.publ...|\n",
      "|         Columnistas| Fito Páez: La bi...| https://www.publ...|\n",
      "|            Deportes| “Me duele” Rodal...| https://www.publ...|\n",
      "|            Deportes| Barras futbolera...| https://www.publ...|\n",
      "|            Colombia|                    |                    |\n",
      "|     Entretenimiento|                    |                    |\n",
      "|     Entretenimiento|                    |                    |\n",
      "+--------------------+--------------------+--------------------+"
     ]
    }
   ],
   "source": [
    "row_count = data.count()\n",
    "data.show(row_count)"
   ]
  },
  {
   "cell_type": "code",
   "execution_count": 11,
   "id": "cbc4d3dd",
   "metadata": {},
   "outputs": [
    {
     "data": {
      "application/vnd.jupyter.widget-view+json": {
       "model_id": "3c45e5e1486149cd9407ccf806df167e",
       "version_major": 2,
       "version_minor": 0
      },
      "text/plain": [
       "VBox()"
      ]
     },
     "metadata": {},
     "output_type": "display_data"
    },
    {
     "data": {
      "application/vnd.jupyter.widget-view+json": {
       "model_id": "",
       "version_major": 2,
       "version_minor": 0
      },
      "text/plain": [
       "FloatProgress(value=0.0, bar_style='info', description='Progress:', layout=Layout(height='25px', width='50%'),…"
      ]
     },
     "metadata": {},
     "output_type": "display_data"
    }
   ],
   "source": [
    "tokenizer = Tokenizer(inputCol=\"titulo\", outputCol=\"palabras_titulo\")\n",
    "stopwords_remover = StopWordsRemover(inputCol=tokenizer.getOutputCol(), outputCol=\"titulo_sin_stopwords\")"
   ]
  },
  {
   "cell_type": "code",
   "execution_count": 12,
   "id": "635deb17",
   "metadata": {},
   "outputs": [
    {
     "data": {
      "application/vnd.jupyter.widget-view+json": {
       "model_id": "91835f9f276b4dd286e9c391f69aa20d",
       "version_major": 2,
       "version_minor": 0
      },
      "text/plain": [
       "VBox()"
      ]
     },
     "metadata": {},
     "output_type": "display_data"
    },
    {
     "data": {
      "application/vnd.jupyter.widget-view+json": {
       "model_id": "",
       "version_major": 2,
       "version_minor": 0
      },
      "text/plain": [
       "FloatProgress(value=0.0, bar_style='info', description='Progress:', layout=Layout(height='25px', width='50%'),…"
      ]
     },
     "metadata": {},
     "output_type": "display_data"
    }
   ],
   "source": [
    "count_vectorizer = CountVectorizer(inputCol=stopwords_remover.getOutputCol(), outputCol=\"features\")\n",
    "idf = IDF(inputCol=count_vectorizer.getOutputCol(), outputCol=\"tfidf\")"
   ]
  },
  {
   "cell_type": "code",
   "execution_count": 13,
   "id": "e8687381",
   "metadata": {},
   "outputs": [
    {
     "data": {
      "application/vnd.jupyter.widget-view+json": {
       "model_id": "48d87fe2bf1045d6858a3b3af830e9ee",
       "version_major": 2,
       "version_minor": 0
      },
      "text/plain": [
       "VBox()"
      ]
     },
     "metadata": {},
     "output_type": "display_data"
    },
    {
     "data": {
      "application/vnd.jupyter.widget-view+json": {
       "model_id": "",
       "version_major": 2,
       "version_minor": 0
      },
      "text/plain": [
       "FloatProgress(value=0.0, bar_style='info', description='Progress:', layout=Layout(height='25px', width='50%'),…"
      ]
     },
     "metadata": {},
     "output_type": "display_data"
    }
   ],
   "source": [
    "label_indexer = StringIndexer(inputCol=\"categoria\", outputCol=\"label\")"
   ]
  },
  {
   "cell_type": "code",
   "execution_count": 14,
   "id": "a9483c4b",
   "metadata": {},
   "outputs": [
    {
     "data": {
      "application/vnd.jupyter.widget-view+json": {
       "model_id": "b388e6e9088942afbfccd10156fb0fd7",
       "version_major": 2,
       "version_minor": 0
      },
      "text/plain": [
       "VBox()"
      ]
     },
     "metadata": {},
     "output_type": "display_data"
    },
    {
     "data": {
      "application/vnd.jupyter.widget-view+json": {
       "model_id": "",
       "version_major": 2,
       "version_minor": 0
      },
      "text/plain": [
       "FloatProgress(value=0.0, bar_style='info', description='Progress:', layout=Layout(height='25px', width='50%'),…"
      ]
     },
     "metadata": {},
     "output_type": "display_data"
    }
   ],
   "source": [
    "pipeline = Pipeline(stages=[tokenizer, stopwords_remover, count_vectorizer, idf, label_indexer])"
   ]
  },
  {
   "cell_type": "code",
   "execution_count": 15,
   "id": "ab2913e1",
   "metadata": {},
   "outputs": [
    {
     "data": {
      "application/vnd.jupyter.widget-view+json": {
       "model_id": "8e443a47b22549bfa4bc36baead5b640",
       "version_major": 2,
       "version_minor": 0
      },
      "text/plain": [
       "VBox()"
      ]
     },
     "metadata": {},
     "output_type": "display_data"
    },
    {
     "data": {
      "application/vnd.jupyter.widget-view+json": {
       "model_id": "",
       "version_major": 2,
       "version_minor": 0
      },
      "text/plain": [
       "FloatProgress(value=0.0, bar_style='info', description='Progress:', layout=Layout(height='25px', width='50%'),…"
      ]
     },
     "metadata": {},
     "output_type": "display_data"
    }
   ],
   "source": [
    "model = pipeline.fit(data_with_filename)"
   ]
  },
  {
   "cell_type": "code",
   "execution_count": 16,
   "id": "a8cb937e",
   "metadata": {},
   "outputs": [
    {
     "data": {
      "application/vnd.jupyter.widget-view+json": {
       "model_id": "bc7cdd14a19b43818428819f903599a8",
       "version_major": 2,
       "version_minor": 0
      },
      "text/plain": [
       "VBox()"
      ]
     },
     "metadata": {},
     "output_type": "display_data"
    },
    {
     "data": {
      "application/vnd.jupyter.widget-view+json": {
       "model_id": "",
       "version_major": 2,
       "version_minor": 0
      },
      "text/plain": [
       "FloatProgress(value=0.0, bar_style='info', description='Progress:', layout=Layout(height='25px', width='50%'),…"
      ]
     },
     "metadata": {},
     "output_type": "display_data"
    }
   ],
   "source": [
    "transformed_data = model.transform(data_with_filename)\n",
    "\n",
    "transformed_data.write.mode(\"overwrite\").parquet(\"s3://parcialnews/headlines/final/datos_finales.parquet\")"
   ]
  },
  {
   "cell_type": "code",
   "execution_count": 17,
   "id": "2de1fc4b",
   "metadata": {},
   "outputs": [
    {
     "data": {
      "application/vnd.jupyter.widget-view+json": {
       "model_id": "485a0337cd3044b7ba0611f70bc3e589",
       "version_major": 2,
       "version_minor": 0
      },
      "text/plain": [
       "VBox()"
      ]
     },
     "metadata": {},
     "output_type": "display_data"
    },
    {
     "data": {
      "application/vnd.jupyter.widget-view+json": {
       "model_id": "",
       "version_major": 2,
       "version_minor": 0
      },
      "text/plain": [
       "FloatProgress(value=0.0, bar_style='info', description='Progress:', layout=Layout(height='25px', width='50%'),…"
      ]
     },
     "metadata": {},
     "output_type": "display_data"
    }
   ],
   "source": [
    "exploded_data = transformed_data.selectExpr(\"categoria\", \"titulo\", \"link\")\n",
    "exploded_data.write.mode(\"overwrite\").csv(\"s3://parcialnews/headlines/final/final_data.csv\", header=True)"
   ]
  },
  {
   "cell_type": "code",
   "execution_count": null,
   "id": "b9194824",
   "metadata": {},
   "outputs": [],
   "source": []
  }
 ],
 "metadata": {
  "kernelspec": {
   "display_name": "PySpark",
   "language": "python",
   "name": "pysparkkernel"
  },
  "language_info": {
   "codemirror_mode": {
    "name": "python",
    "version": 3
   },
   "file_extension": ".py",
   "mimetype": "text/x-python",
   "name": "pyspark",
   "pygments_lexer": "python3"
  }
 },
 "nbformat": 4,
 "nbformat_minor": 5
}
